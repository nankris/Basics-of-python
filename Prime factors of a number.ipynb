{
 "cells": [
  {
   "cell_type": "code",
   "execution_count": 1,
   "metadata": {},
   "outputs": [
    {
     "name": "stdout",
     "output_type": "stream",
     "text": [
      "[2, 5, 7]\n"
     ]
    }
   ],
   "source": [
    "#returns a number if it is prime\n",
    "def prime(num):\n",
    "    if num==2:\n",
    "        return 2\n",
    "    for i in range(2,num):\n",
    "        if num%i==0:\n",
    "            break\n",
    "        if i!=num-1:\n",
    "            continue\n",
    "        else:\n",
    "            return num\n",
    "#prime(11)\n",
    "#prime factors of a number\n",
    "lst=[]\n",
    "def primefactor(num):\n",
    "    for i in range(2,num):\n",
    "        if num%i==0:\n",
    "            if prime(i):\n",
    "                lst.append(i)\n",
    "                primefactor(int(num/i))\n",
    "                break\n",
    "    if prime(num):\n",
    "        lst.append(num)\n",
    "            \n",
    "primefactor(70)\n",
    "print(lst)"
   ]
  }
 ],
 "metadata": {
  "kernelspec": {
   "display_name": "Python 3",
   "language": "python",
   "name": "python3"
  },
  "language_info": {
   "codemirror_mode": {
    "name": "ipython",
    "version": 3
   },
   "file_extension": ".py",
   "mimetype": "text/x-python",
   "name": "python",
   "nbconvert_exporter": "python",
   "pygments_lexer": "ipython3",
   "version": "3.6.4"
  }
 },
 "nbformat": 4,
 "nbformat_minor": 2
}
