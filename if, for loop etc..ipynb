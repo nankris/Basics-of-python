{
 "cells": [
  {
   "cell_type": "code",
   "execution_count": 3,
   "metadata": {},
   "outputs": [
    {
     "name": "stdout",
     "output_type": "stream",
     "text": [
      "Thank you. Your order will be served in 5 minutes.\n"
     ]
    }
   ],
   "source": [
    "stock1 = ['hamburger', 'pizza', 'hotdog', 'barbeque']\n",
    "stock2 = ['Fried Chicken', 'French Fries', 'Chips', 'Apple Pie']\n",
    "order = \"hamburger\"\n",
    "if order in stock1:\n",
    "    print(\"Thank you. Your order will be served in 5 minutes.\")\n",
    "elif order in stock2:\n",
    "    print(\"Are you willing to wait? Your order will be served in 15 minutes.\")\n",
    "else:\n",
    "    print(\"Sorry, we don’t serve \" + order + \" at the moment.\")"
   ]
  },
  {
   "cell_type": "code",
   "execution_count": 7,
   "metadata": {},
   "outputs": [
    {
     "name": "stdout",
     "output_type": "stream",
     "text": [
      "Enter your age: 24\n",
      "Please register with the Young Adults Club.\n"
     ]
    }
   ],
   "source": [
    "num = int(input(\"Enter your age: \"))\n",
    "if num >= 20:\n",
    "    if num >= 60:\n",
    "        print(\"Please register with the Seniors Club.\")\n",
    "    elif num >= 36:\n",
    "        print(\"You belong to the MiddleAgers Club.\")\n",
    "    else:\n",
    "        print(\"Please register with the Young Adults Club.\")\n",
    "elif num > 12:\n",
    "    print(\"You belong to the Youth Club.\")\n",
    "else:\n",
    "    print (\"Sorry, you are too young to be a member.\")"
   ]
  },
  {
   "cell_type": "code",
   "execution_count": 9,
   "metadata": {},
   "outputs": [
    {
     "name": "stdout",
     "output_type": "stream",
     "text": [
      "< p >\n",
      "< r >\n",
      "< o >\n",
      "< g >\n",
      "< r >\n",
      "< a >\n",
      "< m >\n",
      "< m >\n",
      "< i >\n",
      "< n >\n",
      "< g >\n"
     ]
    }
   ],
   "source": [
    "for letter in 'programming':\n",
    "    print('<', letter, '>')"
   ]
  },
  {
   "cell_type": "code",
   "execution_count": 11,
   "metadata": {},
   "outputs": [
    {
     "name": "stdout",
     "output_type": "stream",
     "text": [
      "It's a sunny day!\n",
      "It's a windy day!\n",
      "It's a rainy day!\n",
      "It's a stormy day!\n",
      "It's a snowy day!\n",
      "Dress appropriately!\n"
     ]
    }
   ],
   "source": [
    "#for loop with list\n",
    "weather = ['sunny', 'windy', 'rainy', 'stormy', 'snowy']\n",
    "for item in weather:\n",
    "    print(\"It's a\", item, \"day!\")\n",
    "print(\"Dress appropriately!\")"
   ]
  },
  {
   "cell_type": "code",
   "execution_count": 12,
   "metadata": {},
   "outputs": [
    {
     "name": "stdout",
     "output_type": "stream",
     "text": [
      "I'm wearing a red shirt!\n",
      "I'm wearing a blue shirt!\n",
      "I'm wearing a pink shirt!\n",
      "I'm wearing a green shirt!\n",
      "I'm wearing a yellow shirt!\n",
      "Multi-colored shirts are cool!\n"
     ]
    }
   ],
   "source": [
    "#for loop with tuple\n",
    "color = ('red', 'blue', 'pink', 'green', 'yellow')\n",
    "for x in color:\n",
    "    print(\"I'm wearing a\", x, \"shirt!\")\n",
    "print(\"Multi-colored shirts are cool!\")"
   ]
  },
  {
   "cell_type": "code",
   "execution_count": 13,
   "metadata": {},
   "outputs": [
    {
     "name": "stdout",
     "output_type": "stream",
     "text": [
      "10 is an even number.\n",
      "99 is an odd number.\n",
      "3 is an odd number.\n",
      "28 is an even number.\n",
      "41 is an odd number.\n",
      "40 is an even number.\n",
      "5 is an odd number.\n",
      "9 is an odd number.\n",
      "66 is an even number.\n"
     ]
    }
   ],
   "source": [
    "numbers = [10, 99, 3, 28, 41, 40, 5, 9, 66]\n",
    "for n in numbers:\n",
    "    if n % 2 == 0:\n",
    "        print(n, \"is an even number.\")\n",
    "    else:\n",
    "        print(n, \"is an odd number.\")"
   ]
  },
  {
   "cell_type": "code",
   "execution_count": 14,
   "metadata": {},
   "outputs": [
    {
     "name": "stdout",
     "output_type": "stream",
     "text": [
      "Sum of 1 and numbers from 1 to 15: 120\n"
     ]
    }
   ],
   "source": [
    "x = 15\n",
    "total = 0\n",
    "for number in range(1, x+1):\n",
    "    total += number\n",
    "print(\"Sum of 1 and numbers from 1 to %d: %d\" % (x, total))"
   ]
  },
  {
   "cell_type": "code",
   "execution_count": 15,
   "metadata": {},
   "outputs": [
    {
     "name": "stdout",
     "output_type": "stream",
     "text": [
      "Enter a number: 12\n",
      "The total is:  78\n"
     ]
    }
   ],
   "source": [
    "#while loop\n",
    "number = int(input(\"Enter a number: \"))\n",
    "#initialize total and counter\n",
    "total = 0\n",
    "c = 1\n",
    "while c <= number:\n",
    "    total = total + c\n",
    "    c += 1\n",
    "#print the total\n",
    "print(\"The total is: \", total)"
   ]
  },
  {
   "cell_type": "code",
   "execution_count": 18,
   "metadata": {},
   "outputs": [
    {
     "name": "stdout",
     "output_type": "stream",
     "text": [
      "Cool animal: lion\n",
      "Cool animal: tiger\n",
      "Cool animal: monkey\n",
      "Cool animal: bear\n",
      "Amazing animals!\n"
     ]
    }
   ],
   "source": [
    "#break statement\n",
    "animals = ['lion', 'tiger', 'monkey', 'bear', 'sloth', 'elephant']\n",
    "for name in animals:\n",
    "    if name == 'sloth':\n",
    "        break\n",
    "    print('Cool animal:', name)\n",
    "print(\"Amazing animals!\")"
   ]
  },
  {
   "cell_type": "code",
   "execution_count": 19,
   "metadata": {},
   "outputs": [
    {
     "name": "stdout",
     "output_type": "stream",
     "text": [
      "Cool animal: lion\n",
      "Cool animal: tiger\n",
      "Cool animal: monkey\n",
      "Cool animal: bear\n",
      "Cool animal: elephant\n",
      "Amazing animals!\n"
     ]
    }
   ],
   "source": [
    "#break statement\n",
    "animals = ['lion', 'tiger', 'monkey', 'bear', 'sloth', 'elephant']\n",
    "for name in animals:\n",
    "    if name == 'sloth':\n",
    "        continue\n",
    "    print('Cool animal:', name)\n",
    "print(\"Amazing animals!\")"
   ]
  },
  {
   "cell_type": "code",
   "execution_count": 20,
   "metadata": {},
   "outputs": [
    {
     "data": {
      "text/plain": [
       "3.4641016151377544"
      ]
     },
     "execution_count": 20,
     "metadata": {},
     "output_type": "execute_result"
    }
   ],
   "source": [
    "import math\n",
    "math.sqrt(12)"
   ]
  },
  {
   "cell_type": "code",
   "execution_count": null,
   "metadata": {},
   "outputs": [],
   "source": []
  },
  {
   "cell_type": "code",
   "execution_count": null,
   "metadata": {},
   "outputs": [],
   "source": []
  }
 ],
 "metadata": {
  "kernelspec": {
   "display_name": "Python 3",
   "language": "python",
   "name": "python3"
  },
  "language_info": {
   "codemirror_mode": {
    "name": "ipython",
    "version": 3
   },
   "file_extension": ".py",
   "mimetype": "text/x-python",
   "name": "python",
   "nbconvert_exporter": "python",
   "pygments_lexer": "ipython3",
   "version": "3.6.4"
  }
 },
 "nbformat": 4,
 "nbformat_minor": 2
}
