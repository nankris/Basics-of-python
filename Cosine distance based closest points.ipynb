{
 "cells": [
  {
   "cell_type": "code",
   "execution_count": 1,
   "metadata": {},
   "outputs": [
    {
     "name": "stdout",
     "output_type": "stream",
     "text": [
      "[(6, -7), (1, -1), (6, 0), (-5, -8), (-1, -1)]\n"
     ]
    }
   ],
   "source": [
    "import math\n",
    "\n",
    "\n",
    "# here S is list of tuples and P is a tuple ot len=2\n",
    "def closest_points_to_p(S, P):\n",
    "   \n",
    "    lstdist=[]\n",
    "    for i in S:\n",
    "        dist=math.acos((i[0]*P[0]+i[1]*P[1])/(math.sqrt(i[0]**2+i[1]**2)*math.sqrt(P[0]**2+P[1]**2)))\n",
    "        lstdist.append(dist)\n",
    "        #print(i[0],i[1])\n",
    "    #print(lstdist)\n",
    "    #print(len(S))\n",
    "    k=0\n",
    "    dct={}\n",
    "    for i in S:\n",
    "        dct[i]=lstdist[k]\n",
    "        k+=1\n",
    "\n",
    "    allpoints=sorted(dct.items(), key=lambda item: item[1])\n",
    "\n",
    "    closestpoints=dict(allpoints[0:5])\n",
    "    #print(closestpoints)\n",
    "    closest_points_to_p=list(closestpoints.keys())\n",
    "    #print(list(closestpoints.keys()))\n",
    "    #print(closestpoints.keys())\n",
    "\n",
    "    \n",
    "    return closest_points_to_p  # its list of tuples\n",
    "\n",
    "S= [(1,2),(3,4),(-1,1),(6,-7),(0, 6),(-5,-8),(-1,-1),(6,0),(1,-1)]\n",
    "P= (3,-4)\n",
    "points = closest_points_to_p(S, P)\n",
    "print(points) "
   ]
  }
 ],
 "metadata": {
  "kernelspec": {
   "display_name": "Python 3",
   "language": "python",
   "name": "python3"
  },
  "language_info": {
   "codemirror_mode": {
    "name": "ipython",
    "version": 3
   },
   "file_extension": ".py",
   "mimetype": "text/x-python",
   "name": "python",
   "nbconvert_exporter": "python",
   "pygments_lexer": "ipython3",
   "version": "3.6.4"
  }
 },
 "nbformat": 4,
 "nbformat_minor": 2
}
