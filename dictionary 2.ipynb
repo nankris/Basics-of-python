{
 "cells": [
  {
   "cell_type": "code",
   "execution_count": 1,
   "metadata": {},
   "outputs": [
    {
     "data": {
      "text/plain": [
       "{'ct': 'kt', 'dog': 'pup', 'lamb': 'ewe'}"
      ]
     },
     "execution_count": 1,
     "metadata": {},
     "output_type": "execute_result"
    }
   ],
   "source": [
    "prs=[(\"ct\",\"kt\"),(\"dog\",\"pup\"),(\"lamb\",\"ewe\")]\n",
    "dict(prs)"
   ]
  },
  {
   "cell_type": "code",
   "execution_count": 7,
   "metadata": {},
   "outputs": [
    {
     "data": {
      "text/plain": [
       "{0: 0, 1: 2, 2: 4, 3: 6, 4: 8}"
      ]
     },
     "execution_count": 7,
     "metadata": {},
     "output_type": "execute_result"
    }
   ],
   "source": [
    "#dictionary comprehension\n",
    "sqrs={x:x*2 for x in range(5)}\n",
    "sqrs"
   ]
  },
  {
   "cell_type": "code",
   "execution_count": 5,
   "metadata": {},
   "outputs": [
    {
     "data": {
      "text/plain": [
       "{0: 0, 2: 4, 4: 8, 6: 12, 8: 16}"
      ]
     },
     "execution_count": 5,
     "metadata": {},
     "output_type": "execute_result"
    }
   ],
   "source": [
    "even_sqrs={x:x*2 for x in range(10) if x%2==0}\n",
    "even_sqrs"
   ]
  },
  {
   "cell_type": "code",
   "execution_count": 6,
   "metadata": {},
   "outputs": [
    {
     "data": {
      "text/plain": [
       "{1: 2, 3: 6, 5: 10, 7: 14, 9: 18}"
      ]
     },
     "execution_count": 6,
     "metadata": {},
     "output_type": "execute_result"
    }
   ],
   "source": [
    "odd_sqrs={x:x*2 for x in range(10) if x%2==1}\n",
    "odd_sqrs"
   ]
  },
  {
   "cell_type": "code",
   "execution_count": 10,
   "metadata": {},
   "outputs": [
    {
     "name": "stdout",
     "output_type": "stream",
     "text": [
      "{'c1': {'name': 'Emily', 'year': 2005}, 'c2': {'name': 'Tobi', 'year': 2003}, 'c3': {'name': 'Lius', 'year': 2019}}\n"
     ]
    }
   ],
   "source": [
    "#nested dictionary\n",
    "fam = {\n",
    "  \"c1\" : {\n",
    "    \"name\" : \"Emily\",\n",
    "    \"year\" : 2005\n",
    "  },\n",
    "  \"c2\" : {\n",
    "    \"name\" : \"Tobi\",\n",
    "    \"year\" : 2003\n",
    "  },\n",
    "  \"c3\" : {\n",
    "    \"name\" : \"Lius\",\n",
    "    \"year\" : 2019\n",
    "  }\n",
    "}\n",
    "print(fam)"
   ]
  },
  {
   "cell_type": "code",
   "execution_count": 11,
   "metadata": {},
   "outputs": [
    {
     "name": "stdout",
     "output_type": "stream",
     "text": [
      "{'child1': {'name': 'Emily', 'year': 2005}, 'child2': {'name': 'Tobi', 'year': 2003}, 'child3': {'name': 'Lius', 'year': 2019}}\n"
     ]
    }
   ],
   "source": [
    "c1 = {\n",
    "  \"name\" : \"Emily\",\n",
    "  \"year\" : 2005\n",
    "}\n",
    "c2 = {\n",
    "  \"name\" : \"Tobi\",\n",
    "  \"year\" : 2003\n",
    "}\n",
    "c3 = {\n",
    "  \"name\" : \"Lius\",\n",
    "  \"year\" : 2019\n",
    "}\n",
    "\n",
    "fam = {\n",
    "  \"child1\" : c1,\n",
    "  \"child2\" : c2,\n",
    "  \"child3\" : c3\n",
    "}\n",
    "print(fam)"
   ]
  },
  {
   "cell_type": "code",
   "execution_count": null,
   "metadata": {},
   "outputs": [],
   "source": []
  },
  {
   "cell_type": "code",
   "execution_count": null,
   "metadata": {},
   "outputs": [],
   "source": []
  },
  {
   "cell_type": "code",
   "execution_count": null,
   "metadata": {},
   "outputs": [],
   "source": []
  }
 ],
 "metadata": {
  "kernelspec": {
   "display_name": "Python 3",
   "language": "python",
   "name": "python3"
  },
  "language_info": {
   "codemirror_mode": {
    "name": "ipython",
    "version": 3
   },
   "file_extension": ".py",
   "mimetype": "text/x-python",
   "name": "python",
   "nbconvert_exporter": "python",
   "pygments_lexer": "ipython3",
   "version": "3.6.4"
  }
 },
 "nbformat": 4,
 "nbformat_minor": 2
}
