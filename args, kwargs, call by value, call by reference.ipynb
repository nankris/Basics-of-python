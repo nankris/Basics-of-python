{
 "cells": [
  {
   "cell_type": "code",
   "execution_count": 2,
   "metadata": {},
   "outputs": [
    {
     "name": "stdout",
     "output_type": "stream",
     "text": [
      "nhk1\n",
      "nhk\n"
     ]
    }
   ],
   "source": [
    "#strings, numbers and tuples are call-by-value (immutable)\n",
    "n='nhk'\n",
    "def concaten(s):\n",
    "    s+='1'\n",
    "    print(s)\n",
    "concaten(n)\n",
    "print(n)"
   ]
  },
  {
   "cell_type": "code",
   "execution_count": 3,
   "metadata": {},
   "outputs": [
    {
     "name": "stdout",
     "output_type": "stream",
     "text": [
      "[1, 2, 3]\n",
      "[1, 2, 3]\n"
     ]
    }
   ],
   "source": [
    "#Mutable objects are call by reference\n",
    "n=[1,2]\n",
    "def concaten(s):\n",
    "    s.append(3)\n",
    "    print(s)\n",
    "concaten(n)\n",
    "print(n)"
   ]
  },
  {
   "cell_type": "code",
   "execution_count": 8,
   "metadata": {},
   "outputs": [
    {
     "data": {
      "text/plain": [
       "[1, 2, 3, 1, 2, 3]"
      ]
     },
     "execution_count": 8,
     "metadata": {},
     "output_type": "execute_result"
    }
   ],
   "source": [
    "#list multiplicatoin\n",
    "[1,2,3]*2"
   ]
  },
  {
   "cell_type": "code",
   "execution_count": 7,
   "metadata": {},
   "outputs": [
    {
     "data": {
      "text/plain": [
       "'kkk'"
      ]
     },
     "execution_count": 7,
     "metadata": {},
     "output_type": "execute_result"
    }
   ],
   "source": [
    "#string multiplication\n",
    "\"k\"*3"
   ]
  },
  {
   "cell_type": "code",
   "execution_count": 6,
   "metadata": {},
   "outputs": [
    {
     "name": "stdout",
     "output_type": "stream",
     "text": [
      "None\n",
      "[3, 2, 1]\n"
     ]
    }
   ],
   "source": [
    "#reversing a string\n",
    "print([1,2,3].reverse())\n",
    "k=[1,2,3]\n",
    "k.reverse()\n",
    "print(k)"
   ]
  },
  {
   "cell_type": "code",
   "execution_count": 9,
   "metadata": {},
   "outputs": [
    {
     "name": "stdout",
     "output_type": "stream",
     "text": [
      "1\n",
      "3\n",
      "2\n",
      "4\n"
     ]
    }
   ],
   "source": [
    "#In cases when we don’t know how many arguments will be passed to a function, like when we want to pass a list or a tuple of values, we use *args.\n",
    "# difference between *args and **kwargs\n",
    "def fun(*arg):\n",
    "    for i in arg:\n",
    "        print(i)\n",
    "fun(1,3,2,4)"
   ]
  },
  {
   "cell_type": "code",
   "execution_count": 11,
   "metadata": {},
   "outputs": [
    {
     "name": "stdout",
     "output_type": "stream",
     "text": [
      "a 1\n",
      "b 3\n",
      "c 5\n"
     ]
    }
   ],
   "source": [
    "#**kwargs takes keyword arguments when we don’t know how many there will be.\n",
    "def fun(**kwargs):\n",
    "    for i in kwargs:\n",
    "        print(i,kwargs[i])\n",
    "fun(a=1,b=3,c=5)"
   ]
  },
  {
   "cell_type": "code",
   "execution_count": null,
   "metadata": {},
   "outputs": [],
   "source": []
  },
  {
   "cell_type": "code",
   "execution_count": null,
   "metadata": {},
   "outputs": [],
   "source": []
  },
  {
   "cell_type": "code",
   "execution_count": null,
   "metadata": {},
   "outputs": [],
   "source": []
  }
 ],
 "metadata": {
  "kernelspec": {
   "display_name": "Python 3",
   "language": "python",
   "name": "python3"
  },
  "language_info": {
   "codemirror_mode": {
    "name": "ipython",
    "version": 3
   },
   "file_extension": ".py",
   "mimetype": "text/x-python",
   "name": "python",
   "nbconvert_exporter": "python",
   "pygments_lexer": "ipython3",
   "version": "3.6.4"
  }
 },
 "nbformat": 4,
 "nbformat_minor": 2
}
