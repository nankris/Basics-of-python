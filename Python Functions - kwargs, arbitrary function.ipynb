{
 "cells": [
  {
   "cell_type": "code",
   "execution_count": 7,
   "metadata": {},
   "outputs": [
    {
     "name": "stdout",
     "output_type": "stream",
     "text": [
      "Hello hk, good mrng\n"
     ]
    }
   ],
   "source": [
    "def hello(name, message):\n",
    "    \"\"\"doc string, prints hello message\"\"\"\n",
    "    print(\"Hello {0}, {1}\".format(name,message))\n",
    "#call the function with arguments\n",
    "hello(\"hk\",\"good mrng\")"
   ]
  },
  {
   "cell_type": "code",
   "execution_count": 6,
   "metadata": {},
   "outputs": [
    {
     "name": "stdout",
     "output_type": "stream",
     "text": [
      "Hello hk, Good mrng\n"
     ]
    }
   ],
   "source": [
    "#default arguments\n",
    "def hello(name, message=\"Good mrng\"):\n",
    "    \"\"\"doc string, prints hello message\"\"\"\n",
    "    print(\"Hello {0}, {1}\".format(name,message))\n",
    "#call the function with arguments\n",
    "hello(\"hk\")"
   ]
  },
  {
   "cell_type": "code",
   "execution_count": 5,
   "metadata": {},
   "outputs": [
    {
     "name": "stdout",
     "output_type": "stream",
     "text": [
      "Hello hk, good mrng\n"
     ]
    }
   ],
   "source": [
    "#key word arguments\n",
    "def hello(**kwargs):\n",
    "    \"\"\"doc string, prints hello message\"\"\"\n",
    "    print(\"Hello {0}, {1}\".format(kwargs['name'],kwargs['message']))\n",
    "#call the function with arguments\n",
    "hello(name=\"hk\",message=\"good mrng\")"
   ]
  },
  {
   "cell_type": "code",
   "execution_count": 9,
   "metadata": {},
   "outputs": [
    {
     "name": "stdout",
     "output_type": "stream",
     "text": [
      "Hello, Nk\n",
      "Hello, Nhk\n",
      "Hello, Nkh\n"
     ]
    }
   ],
   "source": [
    "#arbitary arguments\n",
    "#key word arguments\n",
    "def hello(*names):\n",
    "    \"\"\"doc string, prints hello message\"\"\"\n",
    "    for n in names:\n",
    "        print(\"Hello, {0}\".format(n))\n",
    "hello(\"Nk\", \"Nhk\", \"Nkh\")"
   ]
  },
  {
   "cell_type": "code",
   "execution_count": 10,
   "metadata": {},
   "outputs": [
    {
     "data": {
      "text/plain": [
       "True"
      ]
     },
     "execution_count": 10,
     "metadata": {},
     "output_type": "execute_result"
    }
   ],
   "source": [
    "#different types of functions\n",
    "lst=[1,2,3,5]\n",
    "all(lst) #True if all elements are true"
   ]
  },
  {
   "cell_type": "code",
   "execution_count": 11,
   "metadata": {},
   "outputs": [
    {
     "data": {
      "text/plain": [
       "False"
      ]
     },
     "execution_count": 11,
     "metadata": {},
     "output_type": "execute_result"
    }
   ],
   "source": [
    "lst=[1,0,3,5]\n",
    "all(lst)"
   ]
  },
  {
   "cell_type": "code",
   "execution_count": null,
   "metadata": {},
   "outputs": [],
   "source": []
  },
  {
   "cell_type": "code",
   "execution_count": null,
   "metadata": {},
   "outputs": [],
   "source": []
  }
 ],
 "metadata": {
  "kernelspec": {
   "display_name": "Python 3",
   "language": "python",
   "name": "python3"
  },
  "language_info": {
   "codemirror_mode": {
    "name": "ipython",
    "version": 3
   },
   "file_extension": ".py",
   "mimetype": "text/x-python",
   "name": "python",
   "nbconvert_exporter": "python",
   "pygments_lexer": "ipython3",
   "version": "3.6.4"
  }
 },
 "nbformat": 4,
 "nbformat_minor": 2
}
