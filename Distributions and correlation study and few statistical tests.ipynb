{
 "cells": [
  {
   "cell_type": "code",
   "execution_count": 1,
   "metadata": {},
   "outputs": [],
   "source": [
    "from scipy.stats import binom\n",
    "import matplotlib.pyplot as plt"
   ]
  },
  {
   "cell_type": "code",
   "execution_count": 6,
   "metadata": {},
   "outputs": [
    {
     "data": {
      "image/png": "[encoded data removed]",
      "text/plain": [
       "<Figure size 432x288 with 1 Axes>"
      ]
     },
     "metadata": {},
     "output_type": "display_data"
    }
   ],
   "source": [
    "fig, ax = plt.subplots(1, 1)\n",
    "x = [0, 1, 2, 3, 4, 5, 6]\n",
    "n, p = 6, 0.5\n",
    "rv = binom(n,p) #to generate bynomial distribution\n",
    "ax.vlines(x, 0, rv.pmf(x), colors='k', linestyles='-', lw=1, label='Probablity')\n",
    "ax.legend(loc='best', frameon=False)\n",
    "plt.show()"
   ]
  },
  {
   "cell_type": "code",
   "execution_count": 7,
   "metadata": {},
   "outputs": [
    {
     "data": {
      "image/png": "[encoded data removed]",
      "text/plain": [
       "<Figure size 432x288 with 1 Axes>"
      ]
     },
     "metadata": {},
     "output_type": "display_data"
    }
   ],
   "source": [
    "#when increased n value binomial distribution is converging to normal distribution\n",
    "fig, ax = plt.subplots(1, 1)\n",
    "x = range(101)\n",
    "n, p = 100, 0.5\n",
    "rv = binom(n,p) #to generate bynomial distribution\n",
    "ax.vlines(x, 0, rv.pmf(x), colors='k', linestyles='-', lw=1, label='Probablity')\n",
    "ax.legend(loc='best', frameon=False)\n",
    "plt.show()"
   ]
  },
  {
   "cell_type": "code",
   "execution_count": 10,
   "metadata": {},
   "outputs": [
    {
     "data": {
      "text/plain": [
       "0.06688147366240117"
      ]
     },
     "execution_count": 10,
     "metadata": {},
     "output_type": "execute_result"
    }
   ],
   "source": [
    "#poisson distribution\n",
    "# The number of cars that pass through a bridge in an hour is 20. What would be the probability of 23 cars passing through \n",
    "#the bridge in an hour?\n",
    "from scipy.stats import poisson\n",
    "rv = poisson(20)\n",
    "rv.pmf(23)"
   ]
  },
  {
   "cell_type": "code",
   "execution_count": 11,
   "metadata": {},
   "outputs": [
    {
     "data": {
      "text/plain": [
       "array([1, 1, 0, 1, 0, 0, 1, 1, 1, 1, 1, 1, 1, 0, 0, 1, 1, 1, 0, 1, 0, 1,\n",
       "       1, 0, 1, 1, 1, 1, 0, 0, 1, 1, 1, 0, 0, 1, 1, 0, 1, 1, 1, 1, 1, 1,\n",
       "       1, 1, 1, 1, 1, 0, 1, 1, 1, 0, 1, 0, 0, 1, 1, 1, 1, 1, 0, 1, 1, 1,\n",
       "       1, 1, 1, 1, 1, 0, 1, 1, 1, 1, 1, 1, 1, 1, 1, 1, 1, 1, 0, 1, 0, 1,\n",
       "       1, 1, 0, 0, 1, 1, 1, 0, 0, 1, 0, 1])"
      ]
     },
     "execution_count": 11,
     "metadata": {},
     "output_type": "execute_result"
    }
   ],
   "source": [
    "#bernoulli distribution\n",
    "#The following function generates a Bernoulli distribution with a probability of 0.7:\n",
    "from scipy import stats\n",
    "stats.bernoulli.rvs(0.7, size=100)"
   ]
  },
  {
   "cell_type": "code",
   "execution_count": 14,
   "metadata": {},
   "outputs": [
    {
     "data": {
      "text/plain": [
       "'The NumPy package has a random module that has a normal function,\\nwhere 50 is given as the mean of the distribution, 10 is the standard\\ndeviation of the distribution, and 60 is the number of values to be\\ngenerated.'"
      ]
     },
     "execution_count": 14,
     "metadata": {},
     "output_type": "execute_result"
    }
   ],
   "source": [
    "#zscore\n",
    "import numpy as np\n",
    "classscore = np.random.normal(50, 10, 60).round()\n",
    "'''The NumPy package has a random module that has a normal function,\n",
    "where 50 is given as the mean of the distribution, 10 is the standard\n",
    "deviation of the distribution, and 60 is the number of values to be\n",
    "generated.'''\n"
   ]
  },
  {
   "cell_type": "code",
   "execution_count": 17,
   "metadata": {},
   "outputs": [
    {
     "data": {
      "image/png": "[encoded data removed]",
      "text/plain": [
       "<Figure size 432x288 with 1 Axes>"
      ]
     },
     "metadata": {},
     "output_type": "display_data"
    }
   ],
   "source": [
    "import matplotlib.pyplot as plt\n",
    "#plt.hist(classscore, 30, normed=True) #normed is depreciated\n",
    "plt.hist(classscore, 30, density=True) #Number of breaks is 30\n",
    "plt.show()"
   ]
  },
  {
   "cell_type": "code",
   "execution_count": 19,
   "metadata": {},
   "outputs": [
    {
     "data": {
      "text/plain": [
       "array([ 0.79592902,  0.79592902,  0.04302319, -0.27965074,  0.68837105,\n",
       "        1.22616093,  0.903487  , -0.60232467,  0.04302319, -1.03255657,\n",
       "       -0.92499859, -1.67790442, -0.06453479, -1.67790442,  0.04302319,\n",
       "       -0.49476669, -0.70988264, -0.81744062, -0.06453479,  0.25813914,\n",
       "       -1.03255657, -0.06453479, -1.14011454,  0.68837105, -1.46278847,\n",
       "       -0.06453479, -0.06453479, -0.38720871,  0.903487  , -2.2156943 ,\n",
       "        0.36569712,  0.68837105, -1.3552305 ,  1.01104497,  1.3337189 ,\n",
       "        1.22616093,  0.15058117,  0.04302319, -0.92499859,  2.83953056,\n",
       "       -0.49476669,  0.903487  , -0.60232467, -1.57034645, -0.38720871,\n",
       "       -0.27965074,  1.11860295, -0.06453479, -0.27965074, -0.81744062,\n",
       "        0.47325509, -0.49476669,  1.54883485,  0.68837105,  1.3337189 ,\n",
       "       -1.57034645,  0.58081307,  1.3337189 , -0.38720871,  1.97906676])"
      ]
     },
     "execution_count": 19,
     "metadata": {},
     "output_type": "execute_result"
    }
   ],
   "source": [
    "stats.zscore(classscore)\n",
    "#So, a student with a score of 60 out of 100 has a z-score of 1.334."
   ]
  },
  {
   "cell_type": "code",
   "execution_count": 21,
   "metadata": {},
   "outputs": [
    {
     "data": {
      "text/plain": [
       "0.0911019282653599"
      ]
     },
     "execution_count": 21,
     "metadata": {},
     "output_type": "execute_result"
    }
   ],
   "source": [
    "prob = 1 - stats.norm.cdf(1.334)\n",
    "prob\n",
    "#In other words, 0.09 is the probability of getting marks above 60."
   ]
  },
  {
   "cell_type": "code",
   "execution_count": 22,
   "metadata": {},
   "outputs": [
    {
     "data": {
      "text/plain": [
       "0.21304508063132888"
      ]
     },
     "execution_count": 22,
     "metadata": {},
     "output_type": "execute_result"
    }
   ],
   "source": [
    "1 - stats.norm.cdf(0.7959)"
   ]
  },
  {
   "cell_type": "code",
   "execution_count": 26,
   "metadata": {},
   "outputs": [
    {
     "name": "stdout",
     "output_type": "stream",
     "text": [
      "0.8416212335729143\n"
     ]
    },
    {
     "data": {
      "text/plain": [
       "56.40974160904188"
      ]
     },
     "execution_count": 26,
     "metadata": {},
     "output_type": "execute_result"
    }
   ],
   "source": [
    "#to get the z-score at which the top 20% score marks\n",
    "print(stats.norm.ppf(0.80))\n",
    "#The z-score for the preceding output that determines whether the top 20% marks are at 0.84 is as follows\n",
    "(0.84 * classscore.std()) + classscore.mean()\n",
    "#The 55.83 marks means that students who have marks more than this are in the top 20% of the distribution."
   ]
  },
  {
   "cell_type": "code",
   "execution_count": 27,
   "metadata": {},
   "outputs": [
    {
     "data": {
      "text/plain": [
       "'The z-score is an essential concept in statistics, which is widely used.\\nNow you can understand that it is basically used in standardizing any\\ndistribution so that it can be compared or inferences can be derived from\\nit.'"
      ]
     },
     "execution_count": 27,
     "metadata": {},
     "output_type": "execute_result"
    }
   ],
   "source": [
    "'''The z-score is an essential concept in statistics, which is widely used.\n",
    "Now you can understand that it is basically used in standardizing any\n",
    "distribution so that it can be compared or inferences can be derived from\n",
    "it.'''"
   ]
  },
  {
   "cell_type": "code",
   "execution_count": 28,
   "metadata": {},
   "outputs": [],
   "source": [
    "#Let's get the z-score of 68 marks\n",
    "zscore = ( 68 - classscore.mean() ) /classscore.std()"
   ]
  },
  {
   "cell_type": "code",
   "execution_count": 29,
   "metadata": {},
   "outputs": [
    {
     "data": {
      "text/plain": [
       "2.086624733029963"
      ]
     },
     "execution_count": 29,
     "metadata": {},
     "output_type": "execute_result"
    }
   ],
   "source": [
    "zscore"
   ]
  },
  {
   "cell_type": "code",
   "execution_count": 31,
   "metadata": {},
   "outputs": [
    {
     "data": {
      "text/plain": [
       "0.01846103488360895"
      ]
     },
     "execution_count": 31,
     "metadata": {},
     "output_type": "execute_result"
    }
   ],
   "source": [
    "1 - stats.norm.cdf(zscore)\n",
    "# So, you can see that the p-value is at 1.8%, which is lower than the significance level (5%).\n",
    "\n",
    "\n",
    "#This means that the null hypothesis can be rejected, and it can be said that it's not common to get 68 marks in mathematics."
   ]
  },
  {
   "cell_type": "code",
   "execution_count": 37,
   "metadata": {},
   "outputs": [
    {
     "name": "stdout",
     "output_type": "stream",
     "text": [
      "48.6\n"
     ]
    },
    {
     "data": {
      "text/plain": [
       "9.297311439335568"
      ]
     },
     "execution_count": 37,
     "metadata": {},
     "output_type": "execute_result"
    }
   ],
   "source": [
    "#The mean marks of a class are 48.6. and standard deviation is 9.29\n",
    "print(classscore.mean())\n",
    "classscore.std()"
   ]
  },
  {
   "cell_type": "code",
   "execution_count": 53,
   "metadata": {},
   "outputs": [],
   "source": [
    "#Let's test this hypothesis by first getting the z-score 60\n",
    "#two tailed test"
   ]
  },
  {
   "cell_type": "code",
   "execution_count": 50,
   "metadata": {},
   "outputs": [
    {
     "data": {
      "text/plain": [
       "-2.7341227125941874"
      ]
     },
     "execution_count": 50,
     "metadata": {},
     "output_type": "execute_result"
    }
   ],
   "source": [
    "zscore = ( 48.6 - 74 ) / 9.29\n",
    "zscore"
   ]
  },
  {
   "cell_type": "code",
   "execution_count": 51,
   "metadata": {},
   "outputs": [
    {
     "data": {
      "text/plain": [
       "0.003127336475574966"
      ]
     },
     "execution_count": 51,
     "metadata": {},
     "output_type": "execute_result"
    }
   ],
   "source": [
    "#the p value would be\n",
    "stats.norm.cdf(zscore)"
   ]
  },
  {
   "cell_type": "code",
   "execution_count": 52,
   "metadata": {},
   "outputs": [
    {
     "data": {
      "text/plain": [
       "'The p value would be 0.31%. The null hypothesis is to be rejected, and the pvalue\\nshould be less than 2.5% in either direction of the bell curve. Since\\nthe p-value is less than 2.5%, we can reject the null hypothesis and\\nclearly state that the average marks of the class are significantly different\\nfrom the national average.'"
      ]
     },
     "execution_count": 52,
     "metadata": {},
     "output_type": "execute_result"
    }
   ],
   "source": [
    "'''The p value would be 0.31%. The null hypothesis is to be rejected, and the pvalue\n",
    "should be less than 2.5% in either direction of the bell curve. Since\n",
    "the p-value is less than 2.5%, we can reject the null hypothesis and\n",
    "clearly state that the average marks of the class are significantly different\n",
    "from the national average.'''"
   ]
  },
  {
   "cell_type": "code",
   "execution_count": 54,
   "metadata": {},
   "outputs": [],
   "source": [
    "#correlation\n",
    "mpg = [21.0, 21.0, 22.8, 21.4, 18.7, 18.1, 14.3, 24.4, 22.8, 19.2, 17.8, 16.4, 17.3, 15.2, 10.4, 10.4,\n",
    "14.7, 32.4, 30.4, 33.9, 21.5, 15.5, 15.2, 13.3, 19.2, 27.3, 26.0, 30.4, 15.8, 19.7, 15.0, 21.4]"
   ]
  },
  {
   "cell_type": "code",
   "execution_count": 55,
   "metadata": {},
   "outputs": [],
   "source": [
    "hp = [110, 110, 93, 110, 175, 105, 245, 62, 95, 123, 123, 180, 180, 180, 205, 215, 230, 66, 52, 65,\n",
    "97, 150, 150, 245, 175, 66, 91, 113, 264, 175, 335, 109]"
   ]
  },
  {
   "cell_type": "code",
   "execution_count": 58,
   "metadata": {},
   "outputs": [
    {
     "data": {
      "text/plain": [
       "(-0.7761683718265864, 1.787835254121068e-07)"
      ]
     },
     "execution_count": 58,
     "metadata": {},
     "output_type": "execute_result"
    }
   ],
   "source": [
    "stats.pearsonr(mpg,hp)\n",
    "#The first value of the output gives the correlation between the horsepower and the mileage and \n",
    "#the second value gives the p-value."
   ]
  },
  {
   "cell_type": "code",
   "execution_count": 59,
   "metadata": {},
   "outputs": [
    {
     "data": {
      "image/png": "[encoded data removed]",
      "text/plain": [
       "<Figure size 432x288 with 1 Axes>"
      ]
     },
     "metadata": {},
     "output_type": "display_data"
    }
   ],
   "source": [
    "plt.scatter(mpg, hp)\n",
    "plt.show()"
   ]
  },
  {
   "cell_type": "code",
   "execution_count": 60,
   "metadata": {},
   "outputs": [
    {
     "data": {
      "text/plain": [
       "SpearmanrResult(correlation=-0.8946646457499626, pvalue=5.085969430924412e-12)"
      ]
     },
     "execution_count": 60,
     "metadata": {},
     "output_type": "execute_result"
    }
   ],
   "source": [
    "stats.spearmanr(mpg,hp)"
   ]
  },
  {
   "cell_type": "code",
   "execution_count": 61,
   "metadata": {},
   "outputs": [],
   "source": [
    "#correlation with outliers\n",
    "mpg = [21.0, 21.0, 22.8, 21.4, 18.7, 18.1, 14.3,\n",
    "24.4, 22.8, 19.2, 17.8, 16.4, 17.3, 15.2, 10.4, 10.4,\n",
    "14.7, 32.4, 30.4,\n",
    "33.9, 21.5, 15.5, 15.2, 13.3, 19.2, 27.3, 26.0,\n",
    "30.4, 15.8, 19.7, 15.0, 21.4, 120, 3]"
   ]
  },
  {
   "cell_type": "code",
   "execution_count": 62,
   "metadata": {},
   "outputs": [],
   "source": [
    "hp = [110, 110, 93, 110, 175, 105, 245, 62, 95,\n",
    "123, 123, 180, 180, 180, 205, 215, 230, 66, 52, 65,\n",
    "97, 150, 150, 245,\n",
    "175, 66, 91, 113, 264, 175, 335, 109, 30, 600]"
   ]
  },
  {
   "cell_type": "code",
   "execution_count": 63,
   "metadata": {},
   "outputs": [
    {
     "data": {
      "image/png": "[encoded data removed]",
      "text/plain": [
       "<Figure size 432x288 with 1 Axes>"
      ]
     },
     "metadata": {},
     "output_type": "display_data"
    }
   ],
   "source": [
    "plt.scatter(mpg, hp)\n",
    "plt.show()"
   ]
  },
  {
   "cell_type": "code",
   "execution_count": 64,
   "metadata": {},
   "outputs": [
    {
     "data": {
      "text/plain": [
       "(-0.4741530489143548, 0.004612216794734842)"
      ]
     },
     "execution_count": 64,
     "metadata": {},
     "output_type": "execute_result"
    }
   ],
   "source": [
    "stats.pearsonr(mpg, hp)"
   ]
  },
  {
   "cell_type": "code",
   "execution_count": 65,
   "metadata": {},
   "outputs": [
    {
     "data": {
      "text/plain": [
       "SpearmanrResult(correlation=-0.9122218433726569, pvalue=6.055168165798113e-14)"
      ]
     },
     "execution_count": 65,
     "metadata": {},
     "output_type": "execute_result"
    }
   ],
   "source": [
    "stats.spearmanr(mpg, hp)"
   ]
  },
  {
   "cell_type": "code",
   "execution_count": 67,
   "metadata": {},
   "outputs": [
    {
     "data": {
      "text/plain": [
       "'We can clearly see that the Pearson correlation has been drastically\\naffected due to the outliers, which are from a correlation of 0.89 to 0.47.\\nThe Spearman correlation did not get affected much as it is based on the\\norder rather than the actual value in the data.'"
      ]
     },
     "execution_count": 67,
     "metadata": {},
     "output_type": "execute_result"
    }
   ],
   "source": [
    "'''We can clearly see that the Pearson correlation has been drastically\n",
    "affected due to the outliers, which are from a correlation of 0.89 to 0.47.\n",
    "The Spearman correlation did not get affected much as it is based on the\n",
    "order rather than the actual value in the data.'''"
   ]
  },
  {
   "cell_type": "code",
   "execution_count": 68,
   "metadata": {},
   "outputs": [
    {
     "data": {
      "text/plain": [
       "Ttest_indResult(statistic=-5.458195056848408, pvalue=3.482072285015316e-05)"
      ]
     },
     "execution_count": 68,
     "metadata": {},
     "output_type": "execute_result"
    }
   ],
   "source": [
    "#t test\n",
    "class1_score = np.array([45.0, 40.0, 49.0, 52.0, 54.0, 64.0, 36.0, 41.0, 42.0, 34.0])\n",
    "class2_score = np.array([75.0, 85.0, 53.0, 70.0, 72.0, 93.0, 61.0, 65.0, 65.0, 72.0])\n",
    "stats.ttest_ind(class1_score,class2_score)"
   ]
  },
  {
   "cell_type": "code",
   "execution_count": 69,
   "metadata": {},
   "outputs": [
    {
     "data": {
      "text/plain": [
       "Power_divergenceResult(statistic=3.333333333333333, pvalue=0.6487423586675934)"
      ]
     },
     "execution_count": 69,
     "metadata": {},
     "output_type": "execute_result"
    }
   ],
   "source": [
    "#chi square test\n",
    "expected = np.array([6,6,6,6,6,6])\n",
    "observed = np.array([7, 5, 3, 9, 6, 6])\n",
    "stats.chisquare(observed,expected)"
   ]
  },
  {
   "cell_type": "code",
   "execution_count": null,
   "metadata": {},
   "outputs": [],
   "source": []
  }
 ],
 "metadata": {
  "kernelspec": {
   "display_name": "Python 3",
   "language": "python",
   "name": "python3"
  },
  "language_info": {
   "codemirror_mode": {
    "name": "ipython",
    "version": 3
   },
   "file_extension": ".py",
   "mimetype": "text/x-python",
   "name": "python",
   "nbconvert_exporter": "python",
   "pygments_lexer": "ipython3",
   "version": "3.6.4"
  }
 },
 "nbformat": 4,
 "nbformat_minor": 2
}
